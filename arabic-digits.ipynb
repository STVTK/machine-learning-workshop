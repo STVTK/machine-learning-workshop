{
 "cells": [
  {
   "cell_type": "markdown",
   "metadata": {},
   "source": [
    "# Step 1: Download the dataset"
   ]
  },
  {
   "cell_type": "markdown",
   "metadata": {},
   "source": [
    "Go to https://www.kaggle.com/mloey1/ahdd1, download the dataset and unzip it into the \"datasets/arabic-digits\" folder."
   ]
  },
  {
   "cell_type": "markdown",
   "metadata": {},
   "source": [
    "# Step 2: Load the dataset"
   ]
  },
  {
   "cell_type": "code",
   "execution_count": 1,
   "metadata": {},
   "outputs": [
    {
     "name": "stderr",
     "output_type": "stream",
     "text": [
      "Using Theano backend.\n"
     ]
    },
    {
     "name": "stdout",
     "output_type": "stream",
     "text": [
      "Couldn't import dot_parser, loading of dot files will not be possible.\n"
     ]
    }
   ],
   "source": [
    "# First, we'll importing some libraries we'll need.\n",
    "import matplotlib.pyplot as plt\n",
    "import numpy as np\n",
    "\n",
    "%matplotlib inline\n",
    "\n",
    "from utils import datasets\n",
    "reload(datasets)\n",
    "from utils import visualize\n",
    "reload(visualize);\n",
    "from utils import brain\n",
    "reload(brain)\n",
    "from utils.brain import Brain\n",
    "\n",
    "np.set_printoptions(linewidth=120)"
   ]
  },
  {
   "cell_type": "code",
   "execution_count": 2,
   "metadata": {},
   "outputs": [],
   "source": [
    "images, labels = datasets.load_arabic_digits()"
   ]
  },
  {
   "cell_type": "code",
   "execution_count": 3,
   "metadata": {},
   "outputs": [
    {
     "data": {
      "text/plain": [
       "(60000, 28, 28)"
      ]
     },
     "execution_count": 3,
     "metadata": {},
     "output_type": "execute_result"
    }
   ],
   "source": [
    "images.shape"
   ]
  },
  {
   "cell_type": "code",
   "execution_count": 4,
   "metadata": {},
   "outputs": [
    {
     "data": {
      "image/png": "[encoded data removed]",
      "text/plain": [
       "<matplotlib.figure.Figure at 0x114e5c850>"
      ]
     },
     "metadata": {},
     "output_type": "display_data"
    }
   ],
   "source": [
    "visualize.show_sample(images, labels)"
   ]
  },
  {
   "cell_type": "code",
   "execution_count": 5,
   "metadata": {},
   "outputs": [
    {
     "data": {
      "text/plain": [
       "array([[  0,   0,   0,   0,   0,   0,   0,   0,   0,   0,   0,   0,   0,   0,   0,   0,   0,   0,   0,   0,   0,   0,\n",
       "          0,   0,   0,   0,   0,   0],\n",
       "       [  0,   0,   0,   0,   0,   0,   0,   0,   0,   0,   0,   0,   0,   0,   0,   0,   0,   0,   0,   0,   0,   0,\n",
       "          0,   0,   0,   0,   0,   0],\n",
       "       [  0,   0,   0,   0,   0,   0,   0,   0,   0,   0,   0,   0,   0,   0,   0,   0,   0,   0,   0,   0,   0,   0,\n",
       "          0,   0,   0,   0,   0,   0],\n",
       "       [  0,   0,   0,   0,   0,   0,   0,   0,   0,   0,   0,   0,   0,   0,   0,   0,   0,   0,   0,   0,   0,   0,\n",
       "          0,   0,   0,   0,   0,   0],\n",
       "       [  0,   0,   0,   0,   0,   0,   0,   0,   0,   0,   0,   0,   0,   0,   0,   0,   0,   0,   0,   0,   0,   0,\n",
       "          0,   0,   0,   0,   0,   0],\n",
       "       [  0,   0,   0,   0,   0,   0,   0,   0,  18, 117, 214, 255, 166,  45,   0,   0,   0,   0,   0,   0,   0,   0,\n",
       "          0,   0,   0,   0,   0,   0],\n",
       "       [  0,   0,   0,   0,   0,   0,  26, 154, 234, 228, 139, 170, 255, 221,  41,   0,   0,   0,   0,   0,   0,   0,\n",
       "          0,   0,   0,   0,   0,   0],\n",
       "       [  0,   0,   0,   0,   0,  18, 172, 255, 199,  45,   0,   0, 179, 255, 186,   2,   0,   0,   0,   0,   0,   0,\n",
       "          0,   0,   0,   0,   0,   0],\n",
       "       [  0,   0,   0,   0,   0, 169, 255, 105,   2,   0,   0,   0,  42, 240, 230,  26,   0,   0,   0,   0,   0,   0,\n",
       "          0,   0,   0,   0,   0,   0],\n",
       "       [  0,   0,   0,   0,   0, 255, 212,   0,   0,   0,   0,   0,   0, 172, 255,  94,   0,   0,   0,   0,   0,   0,\n",
       "          0,   0,   0,   0,   0,   0],\n",
       "       [  0,   0,   0,   0,   0, 255, 148,   0,   0,   0,   0,   0,   0,  48, 255, 191,   4,   0,   0,   0,   0,   0,\n",
       "          0,   0,   0,   0,   0,   0],\n",
       "       [  0,   0,   0,   0,   0, 113, 173,  38,   0,   0,   0,   0,   0,  22, 226, 252,  42,   0,   0,   0,   0,   0,\n",
       "          0,   0,   0,   0,   0,   0],\n",
       "       [  0,   0,   0,   0,   0,  45, 254, 217,  35,   7,   9,  29,  18,  25, 126, 255, 139,   0,   0,   0,   0,   0,\n",
       "          0,   0,   0,   0,   0,   0],\n",
       "       [  0,   0,   0,   0,   0,   0,  86, 235, 245, 230, 226, 237,  77,   0,  56, 255, 217,   9,   0,   0,   0,   0,\n",
       "          0,   0,   0,   0,   0,   0],\n",
       "       [  0,   0,   0,   0,   0,   0,   0,  36, 157, 161,  84,  59,   7,   0,   9, 214, 255,  87,   0,   0,   0,   0,\n",
       "          0,   0,   0,   0,   0,   0],\n",
       "       [  0,   0,   0,   0,   0,   0,   0,   0,   0,   0,   0,   0,   0,   0,   0, 106, 255, 166,   0,   0,   0,   0,\n",
       "          0,   0,   0,   0,   0,   0],\n",
       "       [  0,   0,   0,   0,   0,   0,   0,   0,   0,   0,   0,   0,   0,   0,   0,  16, 219, 245,  40,   0,   0,   0,\n",
       "          0,   0,   0,   0,   0,   0],\n",
       "       [  0,   0,   0,   0,   0,   0,   0,   0,   0,   0,   0,   0,   0,   0,   0,   0, 140, 255, 148,   0,   0,   0,\n",
       "          0,   0,   0,   0,   0,   0],\n",
       "       [  0,   0,   0,   0,   0,   0,   0,   0,   0,   0,   0,   0,   0,   0,   0,   0,  34, 231, 241,  34,   0,   0,\n",
       "          0,   0,   0,   0,   0,   0],\n",
       "       [  0,   0,   0,   0,   0,   0,   0,   0,   0,   0,   0,   0,   0,   0,   0,   0,   0, 158, 255, 138,   0,   0,\n",
       "          0,   0,   0,   0,   0,   0],\n",
       "       [  0,   0,   0,   0,   0,   0,   0,   0,   0,   0,   0,   0,   0,   0,   0,   0,   0,  33, 248, 213,   7,   0,\n",
       "          0,   0,   0,   0,   0,   0],\n",
       "       [  0,   0,   0,   0,   0,   0,   0,   0,   0,   0,   0,   0,   0,   0,   0,   0,   0,   1, 192, 255,  96,   0,\n",
       "          0,   0,   0,   0,   0,   0],\n",
       "       [  0,   0,   0,   0,   0,   0,   0,   0,   0,   0,   0,   0,   0,   0,   0,   0,   0,   0, 109, 255, 231,  53,\n",
       "          0,   0,   0,   0,   0,   0],\n",
       "       [  0,   0,   0,   0,   0,   0,   0,   0,   0,   0,   0,   0,   0,   0,   0,   0,   0,   0,   9, 176, 255, 187,\n",
       "          0,   0,   0,   0,   0,   0],\n",
       "       [  0,   0,   0,   0,   0,   0,   0,   0,   0,   0,   0,   0,   0,   0,   0,   0,   0,   0,   0,  32, 193, 127,\n",
       "          0,   0,   0,   0,   0,   0],\n",
       "       [  0,   0,   0,   0,   0,   0,   0,   0,   0,   0,   0,   0,   0,   0,   0,   0,   0,   0,   0,   0,   0,   0,\n",
       "          0,   0,   0,   0,   0,   0],\n",
       "       [  0,   0,   0,   0,   0,   0,   0,   0,   0,   0,   0,   0,   0,   0,   0,   0,   0,   0,   0,   0,   0,   0,\n",
       "          0,   0,   0,   0,   0,   0],\n",
       "       [  0,   0,   0,   0,   0,   0,   0,   0,   0,   0,   0,   0,   0,   0,   0,   0,   0,   0,   0,   0,   0,   0,\n",
       "          0,   0,   0,   0,   0,   0]])"
      ]
     },
     "execution_count": 5,
     "metadata": {},
     "output_type": "execute_result"
    }
   ],
   "source": [
    "images[9]"
   ]
  },
  {
   "cell_type": "code",
   "execution_count": 6,
   "metadata": {},
   "outputs": [
    {
     "data": {
      "text/plain": [
       "array([9])"
      ]
     },
     "execution_count": 6,
     "metadata": {},
     "output_type": "execute_result"
    }
   ],
   "source": [
    "labels[9]"
   ]
  },
  {
   "cell_type": "markdown",
   "metadata": {},
   "source": [
    "# Step 3: Teach the brain"
   ]
  },
  {
   "cell_type": "code",
   "execution_count": 7,
   "metadata": {
    "collapsed": true
   },
   "outputs": [],
   "source": [
    "brain = Brain()"
   ]
  },
  {
   "cell_type": "code",
   "execution_count": 8,
   "metadata": {},
   "outputs": [
    {
     "data": {
      "text/plain": [
       "((60000, 28, 28), (60000, 1))"
      ]
     },
     "execution_count": 8,
     "metadata": {},
     "output_type": "execute_result"
    }
   ],
   "source": [
    "images.shape, labels.shape"
   ]
  },
  {
   "cell_type": "code",
   "execution_count": 9,
   "metadata": {},
   "outputs": [
    {
     "name": "stdout",
     "output_type": "stream",
     "text": [
      "Train on 48000 samples, validate on 12000 samples\n",
      "Epoch 1/5\n",
      "48000/48000 [==============================] - 5s - loss: 0.1195 - acc: 0.9660 - val_loss: 0.0881 - val_acc: 0.9778\n",
      "Epoch 2/5\n",
      "48000/48000 [==============================] - 6s - loss: 0.0463 - acc: 0.9872 - val_loss: 0.0877 - val_acc: 0.9804\n",
      "Epoch 3/5\n",
      "48000/48000 [==============================] - 7s - loss: 0.0353 - acc: 0.9911 - val_loss: 0.0963 - val_acc: 0.9810\n",
      "Epoch 4/5\n",
      "48000/48000 [==============================] - 7s - loss: 0.0279 - acc: 0.9928 - val_loss: 0.1303 - val_acc: 0.9792\n",
      "Epoch 5/5\n",
      "48000/48000 [==============================] - 7s - loss: 0.0261 - acc: 0.9941 - val_loss: 0.1058 - val_acc: 0.9834\n"
     ]
    }
   ],
   "source": [
    "brain.learn(images, labels)"
   ]
  },
  {
   "cell_type": "markdown",
   "metadata": {},
   "source": [
    "# Step 4: Test the brain"
   ]
  },
  {
   "cell_type": "code",
   "execution_count": 10,
   "metadata": {
    "collapsed": true
   },
   "outputs": [],
   "source": [
    "images_test, labels_test = datasets.load_arabic_digits_test()"
   ]
  },
  {
   "cell_type": "code",
   "execution_count": 11,
   "metadata": {},
   "outputs": [
    {
     "data": {
      "image/png": "[encoded data removed]",
      "text/plain": [
       "<matplotlib.figure.Figure at 0x139ad2a50>"
      ]
     },
     "metadata": {},
     "output_type": "display_data"
    }
   ],
   "source": [
    "visualize.plot_image(images_test[18])"
   ]
  },
  {
   "cell_type": "code",
   "execution_count": 12,
   "metadata": {},
   "outputs": [
    {
     "name": "stdout",
     "output_type": "stream",
     "text": [
      "1/1 [==============================] - 0s\n"
     ]
    }
   ],
   "source": [
    "prediction = brain.predict(images_test[18])"
   ]
  },
  {
   "cell_type": "code",
   "execution_count": 13,
   "metadata": {},
   "outputs": [
    {
     "data": {
      "text/plain": [
       "array([8])"
      ]
     },
     "execution_count": 13,
     "metadata": {},
     "output_type": "execute_result"
    }
   ],
   "source": [
    "prediction"
   ]
  },
  {
   "cell_type": "code",
   "execution_count": 14,
   "metadata": {},
   "outputs": [
    {
     "name": "stdout",
     "output_type": "stream",
     "text": [
      " 9952/10000 [============================>.] - ETA: 0s"
     ]
    }
   ],
   "source": [
    "# Run the entire test set\n",
    "predictions = brain.model.predict_classes(images_test)"
   ]
  },
  {
   "cell_type": "code",
   "execution_count": 15,
   "metadata": {},
   "outputs": [
    {
     "data": {
      "text/plain": [
       "array([0, 1, 2, ..., 7, 8, 9])"
      ]
     },
     "execution_count": 15,
     "metadata": {},
     "output_type": "execute_result"
    }
   ],
   "source": [
    "predictions"
   ]
  },
  {
   "cell_type": "code",
   "execution_count": 16,
   "metadata": {},
   "outputs": [],
   "source": [
    "# Let's look at which ones we got wrong.\n",
    "incorrect = np.where(predictions != labels_test[:, 0])[0]"
   ]
  },
  {
   "cell_type": "code",
   "execution_count": 17,
   "metadata": {},
   "outputs": [
    {
     "data": {
      "text/plain": [
       "array([  25,   75,   85,  283,  324,  365,  375,  494,  556,  603,  609,  706,  738,  748,  758,  774,  798, 1028, 1074,\n",
       "       1280, 1283, 1605, 1608, 1611, 1615, 1902, 1904, 1910, 1924, 1945, 1949, 1959, 1966, 1968, 1984, 1986, 1989, 2020,\n",
       "       2030, 2065, 2280, 2283, 2292, 2322, 2402, 2634, 2644, 2694, 2880, 2888, 2898, 3026, 3035, 3036, 3052, 3054, 3066,\n",
       "       3068, 3088, 3094, 3098, 3174, 3305, 3315, 3335, 3496, 3514, 3526, 3546, 3586, 3593, 3596, 3601, 3611, 3627, 3705,\n",
       "       3711, 3715, 3725, 3729, 3745, 3748, 3768, 3770, 3796, 4060, 4070, 4314, 4344, 4354, 4364, 4470, 4505, 4605, 4629,\n",
       "       4645, 4646, 4665, 4695, 4698, 4703, 4744, 4747, 4753, 4764, 4774, 4783, 4792, 4940, 4946, 5010, 5018, 5028, 5138,\n",
       "       5358, 5445, 5505, 5509, 5549, 5555, 5575, 5613, 5623, 5638, 5653, 5657, 5658, 5668, 5675, 5678, 5688, 5698, 5705,\n",
       "       5710, 5734, 5750, 5784, 5817, 5827, 5828, 5838, 5847, 5854, 5858, 5867, 5869, 5874, 5897, 5909, 5954, 5975, 6074,\n",
       "       6125, 6208, 6236, 6248, 6264, 6268, 6278, 6298, 6343, 6367, 6371, 6388, 6391, 6393, 6631, 6648, 6684, 6825, 6844,\n",
       "       6846, 6848, 6874, 6898, 6913, 6923, 6943, 6949, 6969, 6973, 6975, 6979, 6983, 6993, 6998, 7017, 7028, 7046, 7077,\n",
       "       7141, 7181, 7215, 7245, 7255, 7275, 7294, 7390, 7704, 7724, 7771, 7836, 7878, 7899, 7906, 7913, 7939, 7964, 7983,\n",
       "       7989, 8148, 8188, 8198, 8278, 8434, 8435, 8458, 8482, 8658, 8702, 8717, 8736, 8773, 8783, 8805, 8814, 8832, 8842,\n",
       "       8844, 8852, 8861, 8862, 8872, 8875, 8881, 8882, 8884, 8889, 9119, 9279, 9288, 9305, 9315, 9329, 9375, 9416, 9418,\n",
       "       9488, 9725, 9745, 9774, 9906, 9914, 9941, 9974])"
      ]
     },
     "execution_count": 17,
     "metadata": {},
     "output_type": "execute_result"
    }
   ],
   "source": [
    "incorrect"
   ]
  },
  {
   "cell_type": "code",
   "execution_count": 18,
   "metadata": {},
   "outputs": [
    {
     "data": {
      "image/png": "[encoded data removed]",
      "text/plain": [
       "<matplotlib.figure.Figure at 0x114f1c250>"
      ]
     },
     "metadata": {},
     "output_type": "display_data"
    }
   ],
   "source": [
    "visualize.show_sample_incorrect(images_test, incorrect, labels_test, predictions)"
   ]
  },
  {
   "cell_type": "code",
   "execution_count": null,
   "metadata": {
    "collapsed": true
   },
   "outputs": [],
   "source": []
  }
 ],
 "metadata": {
  "kernelspec": {
   "display_name": "Python 2",
   "language": "python",
   "name": "python2"
  },
  "language_info": {
   "codemirror_mode": {
    "name": "ipython",
    "version": 2
   },
   "file_extension": ".py",
   "mimetype": "text/x-python",
   "name": "python",
   "nbconvert_exporter": "python",
   "pygments_lexer": "ipython2",
   "version": "2.7.13"
  }
 },
 "nbformat": 4,
 "nbformat_minor": 2
}
